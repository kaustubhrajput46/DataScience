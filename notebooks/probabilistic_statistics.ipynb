{
 "cells": [
  {
   "cell_type": "code",
   "id": "initial_id",
   "metadata": {
    "collapsed": true,
    "ExecuteTime": {
     "end_time": "2025-01-20T01:04:22.155993Z",
     "start_time": "2025-01-20T01:04:22.149468Z"
    }
   },
   "source": [
    "import pandas as pd\n",
    "\n",
    "# Load the data\n",
    "df = pd.read_csv(\"../data/Titanic_dataset/train.csv\")"
   ],
   "outputs": [],
   "execution_count": 5
  },
  {
   "metadata": {
    "ExecuteTime": {
     "end_time": "2025-01-20T01:04:32.871582Z",
     "start_time": "2025-01-20T01:04:32.858580Z"
    }
   },
   "cell_type": "code",
   "source": "df.head()",
   "id": "e7ef7945f69a0a18",
   "outputs": [
    {
     "data": {
      "text/plain": [
       "   PassengerId  Survived  Pclass  \\\n",
       "0            1         0       3   \n",
       "1            2         1       1   \n",
       "2            3         1       3   \n",
       "3            4         1       1   \n",
       "4            5         0       3   \n",
       "\n",
       "                                                Name     Sex  SibSp  Parch  \\\n",
       "0                            Braund, Mr. Owen Harris    male      1      0   \n",
       "1  Cumings, Mrs. John Bradley (Florence Briggs Th...  female      1      0   \n",
       "2                             Heikkinen, Miss. Laina  female      0      0   \n",
       "3       Futrelle, Mrs. Jacques Heath (Lily May Peel)  female      1      0   \n",
       "4                           Allen, Mr. William Henry    male      0      0   \n",
       "\n",
       "             Ticket     Fare Cabin  BirthYear   Age Embarked  \n",
       "0         A/5 21171   7.2500   NaN     1890.0  22.0        S  \n",
       "1          PC 17599  71.2833   C85     1874.0  38.0        C  \n",
       "2  STON/O2. 3101282   7.9250   NaN     1886.0  26.0        S  \n",
       "3            113803  53.1000  C123     1877.0  35.0        S  \n",
       "4            373450   8.0500   NaN     1877.0  35.0        S  "
      ],
      "text/html": [
       "<div>\n",
       "<style scoped>\n",
       "    .dataframe tbody tr th:only-of-type {\n",
       "        vertical-align: middle;\n",
       "    }\n",
       "\n",
       "    .dataframe tbody tr th {\n",
       "        vertical-align: top;\n",
       "    }\n",
       "\n",
       "    .dataframe thead th {\n",
       "        text-align: right;\n",
       "    }\n",
       "</style>\n",
       "<table border=\"1\" class=\"dataframe\">\n",
       "  <thead>\n",
       "    <tr style=\"text-align: right;\">\n",
       "      <th></th>\n",
       "      <th>PassengerId</th>\n",
       "      <th>Survived</th>\n",
       "      <th>Pclass</th>\n",
       "      <th>Name</th>\n",
       "      <th>Sex</th>\n",
       "      <th>SibSp</th>\n",
       "      <th>Parch</th>\n",
       "      <th>Ticket</th>\n",
       "      <th>Fare</th>\n",
       "      <th>Cabin</th>\n",
       "      <th>BirthYear</th>\n",
       "      <th>Age</th>\n",
       "      <th>Embarked</th>\n",
       "    </tr>\n",
       "  </thead>\n",
       "  <tbody>\n",
       "    <tr>\n",
       "      <th>0</th>\n",
       "      <td>1</td>\n",
       "      <td>0</td>\n",
       "      <td>3</td>\n",
       "      <td>Braund, Mr. Owen Harris</td>\n",
       "      <td>male</td>\n",
       "      <td>1</td>\n",
       "      <td>0</td>\n",
       "      <td>A/5 21171</td>\n",
       "      <td>7.2500</td>\n",
       "      <td>NaN</td>\n",
       "      <td>1890.0</td>\n",
       "      <td>22.0</td>\n",
       "      <td>S</td>\n",
       "    </tr>\n",
       "    <tr>\n",
       "      <th>1</th>\n",
       "      <td>2</td>\n",
       "      <td>1</td>\n",
       "      <td>1</td>\n",
       "      <td>Cumings, Mrs. John Bradley (Florence Briggs Th...</td>\n",
       "      <td>female</td>\n",
       "      <td>1</td>\n",
       "      <td>0</td>\n",
       "      <td>PC 17599</td>\n",
       "      <td>71.2833</td>\n",
       "      <td>C85</td>\n",
       "      <td>1874.0</td>\n",
       "      <td>38.0</td>\n",
       "      <td>C</td>\n",
       "    </tr>\n",
       "    <tr>\n",
       "      <th>2</th>\n",
       "      <td>3</td>\n",
       "      <td>1</td>\n",
       "      <td>3</td>\n",
       "      <td>Heikkinen, Miss. Laina</td>\n",
       "      <td>female</td>\n",
       "      <td>0</td>\n",
       "      <td>0</td>\n",
       "      <td>STON/O2. 3101282</td>\n",
       "      <td>7.9250</td>\n",
       "      <td>NaN</td>\n",
       "      <td>1886.0</td>\n",
       "      <td>26.0</td>\n",
       "      <td>S</td>\n",
       "    </tr>\n",
       "    <tr>\n",
       "      <th>3</th>\n",
       "      <td>4</td>\n",
       "      <td>1</td>\n",
       "      <td>1</td>\n",
       "      <td>Futrelle, Mrs. Jacques Heath (Lily May Peel)</td>\n",
       "      <td>female</td>\n",
       "      <td>1</td>\n",
       "      <td>0</td>\n",
       "      <td>113803</td>\n",
       "      <td>53.1000</td>\n",
       "      <td>C123</td>\n",
       "      <td>1877.0</td>\n",
       "      <td>35.0</td>\n",
       "      <td>S</td>\n",
       "    </tr>\n",
       "    <tr>\n",
       "      <th>4</th>\n",
       "      <td>5</td>\n",
       "      <td>0</td>\n",
       "      <td>3</td>\n",
       "      <td>Allen, Mr. William Henry</td>\n",
       "      <td>male</td>\n",
       "      <td>0</td>\n",
       "      <td>0</td>\n",
       "      <td>373450</td>\n",
       "      <td>8.0500</td>\n",
       "      <td>NaN</td>\n",
       "      <td>1877.0</td>\n",
       "      <td>35.0</td>\n",
       "      <td>S</td>\n",
       "    </tr>\n",
       "  </tbody>\n",
       "</table>\n",
       "</div>"
      ]
     },
     "execution_count": 6,
     "metadata": {},
     "output_type": "execute_result"
    }
   ],
   "execution_count": 6
  },
  {
   "metadata": {},
   "cell_type": "markdown",
   "source": " Probability Rules and Concepts",
   "id": "4327c617730a7201"
  },
  {
   "metadata": {
    "ExecuteTime": {
     "end_time": "2025-01-20T01:07:08.793609Z",
     "start_time": "2025-01-20T01:07:08.789459Z"
    }
   },
   "cell_type": "code",
   "source": [
    "# check for missing values\n",
    "df['Sex'].isna().sum()"
   ],
   "id": "f4d4d1bf9b3ce690",
   "outputs": [
    {
     "data": {
      "text/plain": [
       "0"
      ]
     },
     "execution_count": 8,
     "metadata": {},
     "output_type": "execute_result"
    }
   ],
   "execution_count": 8
  },
  {
   "metadata": {
    "ExecuteTime": {
     "end_time": "2025-01-20T01:08:02.694696Z",
     "start_time": "2025-01-20T01:08:02.691491Z"
    }
   },
   "cell_type": "code",
   "source": [
    "# total passengers\n",
    "total_passengers = len(df)\n",
    "print(f\"Total passengers: {total_passengers}\")"
   ],
   "id": "a7d95c9a3ac0b8d5",
   "outputs": [
    {
     "name": "stdout",
     "output_type": "stream",
     "text": [
      "Total passengers: 891\n"
     ]
    }
   ],
   "execution_count": 12
  },
  {
   "metadata": {
    "ExecuteTime": {
     "end_time": "2025-01-20T02:59:40.785653Z",
     "start_time": "2025-01-20T02:59:40.781157Z"
    }
   },
   "cell_type": "code",
   "source": [
    "male_count = len(df[df['Sex'] == 'male'])\n",
    "print(f\"Number of male passengers: {male_count}\")"
   ],
   "id": "361f69133ece2979",
   "outputs": [
    {
     "name": "stdout",
     "output_type": "stream",
     "text": [
      "Number of male passengers: 577\n"
     ]
    }
   ],
   "execution_count": 70
  },
  {
   "metadata": {
    "ExecuteTime": {
     "end_time": "2025-01-20T02:59:41.267965Z",
     "start_time": "2025-01-20T02:59:41.264796Z"
    }
   },
   "cell_type": "code",
   "source": [
    "female_count = len(df[df['Sex'] == 'female'])\n",
    "print(f\"Number of female passengers: {female_count}\")"
   ],
   "id": "452f4be9e87d0c63",
   "outputs": [
    {
     "name": "stdout",
     "output_type": "stream",
     "text": [
      "Number of female passengers: 314\n"
     ]
    }
   ],
   "execution_count": 71
  },
  {
   "metadata": {
    "ExecuteTime": {
     "end_time": "2025-01-20T02:59:41.782585Z",
     "start_time": "2025-01-20T02:59:41.779265Z"
    }
   },
   "cell_type": "code",
   "source": [
    "p_male = male_count / total_passengers\n",
    "p_female = female_count / total_passengers\n",
    "\n",
    "print(f\"Probability of male passengers: {p_male}\")\n",
    "print(f\"Probability of female passengers: {p_female}\")\n"
   ],
   "id": "dc14a45ea8608a17",
   "outputs": [
    {
     "name": "stdout",
     "output_type": "stream",
     "text": [
      "Probability of male passengers: 0.6475869809203143\n",
      "Probability of female passengers: 0.35241301907968575\n"
     ]
    }
   ],
   "execution_count": 72
  },
  {
   "metadata": {},
   "cell_type": "markdown",
   "source": "Basic Probability Rules for Quantitative Variables",
   "id": "f6036477bcbf6f00"
  },
  {
   "metadata": {
    "ExecuteTime": {
     "end_time": "2025-01-20T02:59:46.280537Z",
     "start_time": "2025-01-20T02:59:46.274692Z"
    }
   },
   "cell_type": "code",
   "source": [
    "# check for missing values\n",
    "df['Age'].isna().sum()"
   ],
   "id": "cbc58a47ecbddbce",
   "outputs": [
    {
     "data": {
      "text/plain": [
       "177"
      ]
     },
     "execution_count": 73,
     "metadata": {},
     "output_type": "execute_result"
    }
   ],
   "execution_count": 73
  },
  {
   "metadata": {
    "ExecuteTime": {
     "end_time": "2025-01-20T02:59:47.991300Z",
     "start_time": "2025-01-20T02:59:47.982486Z"
    }
   },
   "cell_type": "code",
   "source": [
    "# clean the data\n",
    "df_age_clean = df.dropna(subset=['Age'])\n",
    "print(f\"Number of passengers with age data: {len(df_age_clean)}\")"
   ],
   "id": "572fe0b9b9c95ff9",
   "outputs": [
    {
     "name": "stdout",
     "output_type": "stream",
     "text": [
      "Number of passengers with age data: 714\n"
     ]
    }
   ],
   "execution_count": 74
  },
  {
   "metadata": {
    "ExecuteTime": {
     "end_time": "2025-01-20T02:59:49.668436Z",
     "start_time": "2025-01-20T02:59:49.664512Z"
    }
   },
   "cell_type": "code",
   "source": [
    "# compute probability of for 'Age' < 18\n",
    "minors_count = len(df_age_clean[df_age_clean['Age'] < 18])\n",
    "p_minors = minors_count / len(df_age_clean)\n",
    "print(f\"Probability of passengers under 18: {p_minors}\")\n"
   ],
   "id": "bb50b855819e1f2d",
   "outputs": [
    {
     "name": "stdout",
     "output_type": "stream",
     "text": [
      "Probability of passengers under 18: 0.15826330532212884\n"
     ]
    }
   ],
   "execution_count": 75
  },
  {
   "metadata": {
    "ExecuteTime": {
     "end_time": "2025-01-20T03:29:23.535086Z",
     "start_time": "2025-01-20T03:29:23.531136Z"
    }
   },
   "cell_type": "code",
   "source": [
    "# compute probability for 'Fare' > 100\n",
    "rich_count = len(df_age_clean[df_age_clean['Fare'] > 100])\n",
    "p_rich = rich_count / len(df_age_clean)\n",
    "print(f\"Probability of passengers with fare > 100: {p_rich}\")"
   ],
   "id": "bd469783ab7d811",
   "outputs": [
    {
     "name": "stdout",
     "output_type": "stream",
     "text": [
      "Probability of passengers with fare > 100: 0.06722689075630252\n"
     ]
    }
   ],
   "execution_count": 86
  },
  {
   "metadata": {},
   "cell_type": "markdown",
   "source": "Conditional Probability",
   "id": "25dc761b40712d05"
  },
  {
   "metadata": {},
   "cell_type": "markdown",
   "source": "conditional probability on qualitative variable Sex on the subset of events where Survived",
   "id": "f41fae66abf7acd7"
  },
  {
   "metadata": {
    "ExecuteTime": {
     "end_time": "2025-01-20T02:59:54.189338Z",
     "start_time": "2025-01-20T02:59:54.182338Z"
    }
   },
   "cell_type": "code",
   "source": [
    "# compute probability of survival\n",
    "survived_count = len(df[df['Survived'] == 1])\n",
    "p_survived = survived_count / total_passengers\n",
    "print(f\"Probability of survival: {p_survived}\")\n",
    "\n",
    "# compute probability of female passengers\n",
    "female_count = len(df[df['Sex'] == 'female'])\n",
    "p_female = female_count / total_passengers\n",
    "print(f\"Probability of female passengers: {p_female}\")\n",
    "\n",
    "# compute probability for female and survived\n",
    "survived_female_count = len(df[(df['Sex'] == 'female') & (df['Survived'] == 1)])\n",
    "p_survived_female_count = survived_female_count / total_passengers\n",
    "print(f\"Probability of survived female passengers: {p_survived_female_count}\")\n",
    "\n",
    "# Conditional probability: Sex = female given Survived\n",
    "if survived_count > 0:\n",
    "    p_female_given_survived = survived_female_count / survived_count\n",
    "else:\n",
    "    p_female_given_survived = 0\n",
    "print(f\"Probability of female passengers given Survived: {p_female_given_survived}\")"
   ],
   "id": "20cd32d99f29e5c2",
   "outputs": [
    {
     "name": "stdout",
     "output_type": "stream",
     "text": [
      "Probability of survival: 0.3838383838383838\n",
      "Probability of female passengers: 0.35241301907968575\n",
      "Probability of survived female passengers: 0.2615039281705948\n",
      "Probability of female passengers given Survived: 0.6812865497076024\n"
     ]
    }
   ],
   "execution_count": 77
  },
  {
   "metadata": {},
   "cell_type": "markdown",
   "source": "conditional probability on quantitative variable Age given criteria Fare > 100",
   "id": "cea30867338a8632"
  },
  {
   "metadata": {
    "ExecuteTime": {
     "end_time": "2025-01-20T02:59:56.423830Z",
     "start_time": "2025-01-20T02:59:56.419263Z"
    }
   },
   "cell_type": "code",
   "source": [
    "# compute probability for 'Age' < 18 and 'Fare' > 100\n",
    "minors_rich_count = len(df_age_clean[(df_age_clean['Age'] < 18) & (df_age_clean['Fare'] > 100)])\n",
    "p_minors_rich = minors_rich_count / len(df_age_clean)\n",
    "print(f\"Probability of passengers under 18 with fare > 100: {p_minors_rich}\")\n",
    "\n",
    "# Conditional Probability: Fare > 100 given Age < 18\n",
    "if minors_count > 0:\n",
    "    p_rich_given_minors = minors_rich_count / minors_count\n",
    "else:\n",
    "    p_rich_given_minors = 0\n",
    "print(f\"Probability of fare > 100 given age < 18: {p_rich_given_minors}\")"
   ],
   "id": "7386d06141730cbd",
   "outputs": [
    {
     "name": "stdout",
     "output_type": "stream",
     "text": [
      "Probability of passengers under 18 with fare > 100: 0.00980392156862745\n",
      "Probability of fare > 100 given age < 18: 0.061946902654867256\n"
     ]
    }
   ],
   "execution_count": 78
  },
  {
   "metadata": {},
   "cell_type": "markdown",
   "source": "Bayes' Theorem",
   "id": "ffb0641040f504e7"
  },
  {
   "metadata": {
    "ExecuteTime": {
     "end_time": "2025-01-20T02:59:58.529871Z",
     "start_time": "2025-01-20T02:59:58.523851Z"
    }
   },
   "cell_type": "code",
   "source": [
    "# check for missing values of survived and fare\n",
    "df[['Survived', 'Fare']].isna().sum()"
   ],
   "id": "aa34dc02c94cd9",
   "outputs": [
    {
     "data": {
      "text/plain": [
       "Survived    0\n",
       "Fare        0\n",
       "dtype: int64"
      ]
     },
     "execution_count": 79,
     "metadata": {},
     "output_type": "execute_result"
    }
   ],
   "execution_count": 79
  },
  {
   "metadata": {
    "ExecuteTime": {
     "end_time": "2025-01-20T03:00:01.241265Z",
     "start_time": "2025-01-20T03:00:01.237596Z"
    }
   },
   "cell_type": "code",
   "source": "print(f\"Total passengers: {total_passengers}\")",
   "id": "fab801a0e93dd79f",
   "outputs": [
    {
     "name": "stdout",
     "output_type": "stream",
     "text": [
      "Total passengers: 891\n"
     ]
    }
   ],
   "execution_count": 80
  },
  {
   "metadata": {
    "ExecuteTime": {
     "end_time": "2025-01-20T03:00:03.098323Z",
     "start_time": "2025-01-20T03:00:03.094371Z"
    }
   },
   "cell_type": "code",
   "source": [
    "# compute probability of survival\n",
    "survived_count = len(df[df['Survived'] == 1])\n",
    "p_survived = survived_count / total_passengers\n",
    "print(f\"Probability of survival: {p_survived}\")"
   ],
   "id": "54612fde8ed850ec",
   "outputs": [
    {
     "name": "stdout",
     "output_type": "stream",
     "text": [
      "Probability of survival: 0.3838383838383838\n"
     ]
    }
   ],
   "execution_count": 81
  },
  {
   "metadata": {
    "ExecuteTime": {
     "end_time": "2025-01-20T03:00:06.582442Z",
     "start_time": "2025-01-20T03:00:06.577522Z"
    }
   },
   "cell_type": "code",
   "source": [
    "# compute probability of fare > 100 given survival\n",
    "rich_survived_count = len(df[(df['Fare'] > 100) & (df['Survived'] == 1)])\n",
    "p_rich_survived = rich_survived_count / survived_count\n",
    "print(f\"Probability of fare > 100 given survival: {p_rich_survived}\")"
   ],
   "id": "99e483d72f65c063",
   "outputs": [
    {
     "name": "stdout",
     "output_type": "stream",
     "text": [
      "Probability of fare > 100 given survival: 0.11403508771929824\n"
     ]
    }
   ],
   "execution_count": 82
  },
  {
   "metadata": {
    "ExecuteTime": {
     "end_time": "2025-01-20T03:00:07.302171Z",
     "start_time": "2025-01-20T03:00:07.298157Z"
    }
   },
   "cell_type": "code",
   "source": [
    "# compute probability of survival given fare > 100\n",
    "if rich_count > 0:\n",
    "    p_survived_rich = rich_survived_count / rich_count\n",
    "else:\n",
    "    p_survived_rich = 0\n",
    "print(f\"Probability of survival given fare > 100: {p_survived_rich}\")"
   ],
   "id": "2e803e918e047a02",
   "outputs": [
    {
     "name": "stdout",
     "output_type": "stream",
     "text": [
      "Probability of survival given fare > 100: 0.8125\n"
     ]
    }
   ],
   "execution_count": 83
  },
  {
   "metadata": {
    "ExecuteTime": {
     "end_time": "2025-01-20T03:00:08.643610Z",
     "start_time": "2025-01-20T03:00:08.640032Z"
    }
   },
   "cell_type": "code",
   "source": [
    "# compute probability of survival given fare > 100 using Bayes' Theorem\n",
    "p_rich = rich_count / len(df_age_clean)\n",
    "p_survived = survived_count / total_passengers\n",
    "p_survived_rich_bayes = (p_rich_survived * p_survived) / p_rich\n",
    "print(f\"Probability of survival given fare > 100 using Bayes' Theorem: {p_survived_rich_bayes}\")"
   ],
   "id": "69e51f1a7c43c87d",
   "outputs": [
    {
     "name": "stdout",
     "output_type": "stream",
     "text": [
      "Probability of survival given fare > 100 using Bayes' Theorem: 0.6510942760942761\n"
     ]
    }
   ],
   "execution_count": 84
  },
  {
   "metadata": {},
   "cell_type": "code",
   "outputs": [],
   "execution_count": null,
   "source": "",
   "id": "e1db99c5961c2c2c"
  }
 ],
 "metadata": {
  "kernelspec": {
   "display_name": "Python 3",
   "language": "python",
   "name": "python3"
  },
  "language_info": {
   "codemirror_mode": {
    "name": "ipython",
    "version": 2
   },
   "file_extension": ".py",
   "mimetype": "text/x-python",
   "name": "python",
   "nbconvert_exporter": "python",
   "pygments_lexer": "ipython2",
   "version": "2.7.6"
  }
 },
 "nbformat": 4,
 "nbformat_minor": 5
}
