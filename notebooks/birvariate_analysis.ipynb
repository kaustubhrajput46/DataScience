{
 "cells": [
  {
   "cell_type": "code",
   "id": "initial_id",
   "metadata": {
    "collapsed": true,
    "ExecuteTime": {
     "end_time": "2025-01-19T02:26:14.927316Z",
     "start_time": "2025-01-19T02:26:14.924057Z"
    }
   },
   "source": [
    "import pandas as pd\n",
    "import numpy as np\n",
    "from scipy.stats import chi2_contingency"
   ],
   "outputs": [],
   "execution_count": 7
  },
  {
   "metadata": {},
   "cell_type": "markdown",
   "source": "Qualitative variables and association between them",
   "id": "42492c5e4fa111ab"
  },
  {
   "metadata": {
    "ExecuteTime": {
     "end_time": "2025-01-19T02:26:15.985791Z",
     "start_time": "2025-01-19T02:26:15.979678Z"
    }
   },
   "cell_type": "code",
   "source": [
    "# Load the data\n",
    "df = pd.read_csv(\"../data/Titanic_dataset/train.csv\")"
   ],
   "id": "292d8da5d4d8118e",
   "outputs": [],
   "execution_count": 8
  },
  {
   "metadata": {
    "ExecuteTime": {
     "end_time": "2025-01-19T02:26:18.562940Z",
     "start_time": "2025-01-19T02:26:18.552302Z"
    }
   },
   "cell_type": "code",
   "source": "df.head()",
   "id": "57c6f3336327887c",
   "outputs": [
    {
     "data": {
      "text/plain": [
       "   PassengerId  Survived  Pclass  \\\n",
       "0            1         0       3   \n",
       "1            2         1       1   \n",
       "2            3         1       3   \n",
       "3            4         1       1   \n",
       "4            5         0       3   \n",
       "\n",
       "                                                Name     Sex  SibSp  Parch  \\\n",
       "0                            Braund, Mr. Owen Harris    male      1      0   \n",
       "1  Cumings, Mrs. John Bradley (Florence Briggs Th...  female      1      0   \n",
       "2                             Heikkinen, Miss. Laina  female      0      0   \n",
       "3       Futrelle, Mrs. Jacques Heath (Lily May Peel)  female      1      0   \n",
       "4                           Allen, Mr. William Henry    male      0      0   \n",
       "\n",
       "             Ticket     Fare Cabin  BirthYear   Age Embarked  \n",
       "0         A/5 21171   7.2500   NaN     1890.0  22.0        S  \n",
       "1          PC 17599  71.2833   C85     1874.0  38.0        C  \n",
       "2  STON/O2. 3101282   7.9250   NaN     1886.0  26.0        S  \n",
       "3            113803  53.1000  C123     1877.0  35.0        S  \n",
       "4            373450   8.0500   NaN     1877.0  35.0        S  "
      ],
      "text/html": [
       "<div>\n",
       "<style scoped>\n",
       "    .dataframe tbody tr th:only-of-type {\n",
       "        vertical-align: middle;\n",
       "    }\n",
       "\n",
       "    .dataframe tbody tr th {\n",
       "        vertical-align: top;\n",
       "    }\n",
       "\n",
       "    .dataframe thead th {\n",
       "        text-align: right;\n",
       "    }\n",
       "</style>\n",
       "<table border=\"1\" class=\"dataframe\">\n",
       "  <thead>\n",
       "    <tr style=\"text-align: right;\">\n",
       "      <th></th>\n",
       "      <th>PassengerId</th>\n",
       "      <th>Survived</th>\n",
       "      <th>Pclass</th>\n",
       "      <th>Name</th>\n",
       "      <th>Sex</th>\n",
       "      <th>SibSp</th>\n",
       "      <th>Parch</th>\n",
       "      <th>Ticket</th>\n",
       "      <th>Fare</th>\n",
       "      <th>Cabin</th>\n",
       "      <th>BirthYear</th>\n",
       "      <th>Age</th>\n",
       "      <th>Embarked</th>\n",
       "    </tr>\n",
       "  </thead>\n",
       "  <tbody>\n",
       "    <tr>\n",
       "      <th>0</th>\n",
       "      <td>1</td>\n",
       "      <td>0</td>\n",
       "      <td>3</td>\n",
       "      <td>Braund, Mr. Owen Harris</td>\n",
       "      <td>male</td>\n",
       "      <td>1</td>\n",
       "      <td>0</td>\n",
       "      <td>A/5 21171</td>\n",
       "      <td>7.2500</td>\n",
       "      <td>NaN</td>\n",
       "      <td>1890.0</td>\n",
       "      <td>22.0</td>\n",
       "      <td>S</td>\n",
       "    </tr>\n",
       "    <tr>\n",
       "      <th>1</th>\n",
       "      <td>2</td>\n",
       "      <td>1</td>\n",
       "      <td>1</td>\n",
       "      <td>Cumings, Mrs. John Bradley (Florence Briggs Th...</td>\n",
       "      <td>female</td>\n",
       "      <td>1</td>\n",
       "      <td>0</td>\n",
       "      <td>PC 17599</td>\n",
       "      <td>71.2833</td>\n",
       "      <td>C85</td>\n",
       "      <td>1874.0</td>\n",
       "      <td>38.0</td>\n",
       "      <td>C</td>\n",
       "    </tr>\n",
       "    <tr>\n",
       "      <th>2</th>\n",
       "      <td>3</td>\n",
       "      <td>1</td>\n",
       "      <td>3</td>\n",
       "      <td>Heikkinen, Miss. Laina</td>\n",
       "      <td>female</td>\n",
       "      <td>0</td>\n",
       "      <td>0</td>\n",
       "      <td>STON/O2. 3101282</td>\n",
       "      <td>7.9250</td>\n",
       "      <td>NaN</td>\n",
       "      <td>1886.0</td>\n",
       "      <td>26.0</td>\n",
       "      <td>S</td>\n",
       "    </tr>\n",
       "    <tr>\n",
       "      <th>3</th>\n",
       "      <td>4</td>\n",
       "      <td>1</td>\n",
       "      <td>1</td>\n",
       "      <td>Futrelle, Mrs. Jacques Heath (Lily May Peel)</td>\n",
       "      <td>female</td>\n",
       "      <td>1</td>\n",
       "      <td>0</td>\n",
       "      <td>113803</td>\n",
       "      <td>53.1000</td>\n",
       "      <td>C123</td>\n",
       "      <td>1877.0</td>\n",
       "      <td>35.0</td>\n",
       "      <td>S</td>\n",
       "    </tr>\n",
       "    <tr>\n",
       "      <th>4</th>\n",
       "      <td>5</td>\n",
       "      <td>0</td>\n",
       "      <td>3</td>\n",
       "      <td>Allen, Mr. William Henry</td>\n",
       "      <td>male</td>\n",
       "      <td>0</td>\n",
       "      <td>0</td>\n",
       "      <td>373450</td>\n",
       "      <td>8.0500</td>\n",
       "      <td>NaN</td>\n",
       "      <td>1877.0</td>\n",
       "      <td>35.0</td>\n",
       "      <td>S</td>\n",
       "    </tr>\n",
       "  </tbody>\n",
       "</table>\n",
       "</div>"
      ]
     },
     "execution_count": 9,
     "metadata": {},
     "output_type": "execute_result"
    }
   ],
   "execution_count": 9
  },
  {
   "metadata": {
    "ExecuteTime": {
     "end_time": "2025-01-19T02:26:36.910901Z",
     "start_time": "2025-01-19T02:26:36.902687Z"
    }
   },
   "cell_type": "code",
   "source": "contingency_table = pd.crosstab(df['Sex'], df['Survived'])",
   "id": "e540efeb39cb0e43",
   "outputs": [],
   "execution_count": 10
  },
  {
   "metadata": {
    "ExecuteTime": {
     "end_time": "2025-01-19T02:26:37.396810Z",
     "start_time": "2025-01-19T02:26:37.392598Z"
    }
   },
   "cell_type": "code",
   "source": "print(contingency_table)",
   "id": "fd74ad3bdbcd0887",
   "outputs": [
    {
     "name": "stdout",
     "output_type": "stream",
     "text": [
      "Survived    0    1\n",
      "Sex               \n",
      "female     81  233\n",
      "male      468  109\n"
     ]
    }
   ],
   "execution_count": 11
  },
  {
   "metadata": {
    "ExecuteTime": {
     "end_time": "2025-01-19T02:26:37.550923Z",
     "start_time": "2025-01-19T02:26:37.547327Z"
    }
   },
   "cell_type": "code",
   "source": "chi2, p, dof, expected = chi2_contingency(contingency_table)",
   "id": "c704dadf435fcb49",
   "outputs": [],
   "execution_count": 12
  },
  {
   "metadata": {
    "ExecuteTime": {
     "end_time": "2025-01-19T02:26:37.724976Z",
     "start_time": "2025-01-19T02:26:37.720672Z"
    }
   },
   "cell_type": "code",
   "source": [
    "print(f\"Chi2: {chi2}\")\n",
    "print(f\"p-value: {p}\")\n",
    "print(f\"Degrees of freedom: {dof}\")\n",
    "print(f\"Expected values: \\n {expected}\")"
   ],
   "id": "a60010e9de9a0a28",
   "outputs": [
    {
     "name": "stdout",
     "output_type": "stream",
     "text": [
      "Chi2: 260.71702016732104\n",
      "p-value: 1.1973570627755645e-58\n",
      "Degrees of freedom: 1\n",
      "Expected values: \n",
      " [[193.47474747 120.52525253]\n",
      " [355.52525253 221.47474747]]\n"
     ]
    }
   ],
   "execution_count": 13
  },
  {
   "metadata": {},
   "cell_type": "markdown",
   "source": "Quantitative variables and association between them",
   "id": "445ebde29f928f0d"
  },
  {
   "metadata": {
    "ExecuteTime": {
     "end_time": "2025-01-19T17:30:02.643807Z",
     "start_time": "2025-01-19T17:30:02.536957Z"
    }
   },
   "cell_type": "code",
   "source": [
    "import matplotlib.pyplot as plt\n",
    "\n",
    "# Load the data\n",
    "df = pd.read_csv(\"../data/Titanic_dataset/train.csv\")\n",
    "\n",
    "# Scatter plot between Age and Fare\n",
    "plt.figure(figsize=(10, 6))\n",
    "plt.scatter(df['Age'], df['Fare'], alpha=0.5)\n",
    "plt.title('Scatter Plot of Age vs Fare')\n",
    "plt.xlabel('Age')\n",
    "plt.ylabel('Fare')\n",
    "plt.grid(True)\n",
    "plt.show()"
   ],
   "id": "288d34de4c1b3ed4",
   "outputs": [
    {
     "data": {
      "text/plain": [
       "<Figure size 1000x600 with 1 Axes>"
      ],
      "image/png": "[encoded data removed]"
     },
     "metadata": {},
     "output_type": "display_data"
    }
   ],
   "execution_count": 30
  },
  {
   "metadata": {},
   "cell_type": "markdown",
   "source": "Covariance: Measure of Correlation",
   "id": "3cc80ff30877330"
  },
  {
   "metadata": {
    "ExecuteTime": {
     "end_time": "2025-01-19T02:37:05.887919Z",
     "start_time": "2025-01-19T02:37:05.883253Z"
    }
   },
   "cell_type": "code",
   "source": [
    "# Drop rows with missing values in 'Age' or 'Fare'\n",
    "df_clean = df.dropna(subset=['Age', 'Fare'])\n",
    "\n",
    "# Calculate the covariance\n",
    "covariance = np.cov(df_clean['Age'], df_clean['Fare'])\n",
    "print(covariance)"
   ],
   "id": "802db7a9b382cd1b",
   "outputs": [
    {
     "name": "stdout",
     "output_type": "stream",
     "text": [
      "[[ 211.01912475   73.84902981]\n",
      " [  73.84902981 2800.4130997 ]]\n"
     ]
    }
   ],
   "execution_count": 27
  },
  {
   "metadata": {
    "ExecuteTime": {
     "end_time": "2025-01-19T02:44:24.465592Z",
     "start_time": "2025-01-19T02:44:24.458401Z"
    }
   },
   "cell_type": "code",
   "source": [
    "from scipy.stats import pearsonr\n",
    "\n",
    "# Calculate Pearson's correlation coefficient\n",
    "corr, p_value = pearsonr(df_clean['Age'], df_clean['Fare'])\n",
    "\n",
    "print(f\"Pearson's correlation coefficient: {corr}\")\n",
    "print(f\"P-value: {p_value}\")"
   ],
   "id": "5c5c2a6a9e9b9b47",
   "outputs": [
    {
     "name": "stdout",
     "output_type": "stream",
     "text": [
      "Pearson's correlation coefficient: 0.09606669176903906\n",
      "P-value: 0.01021627750444688\n"
     ]
    }
   ],
   "execution_count": 28
  }
 ],
 "metadata": {
  "kernelspec": {
   "display_name": "Python 3",
   "language": "python",
   "name": "python3"
  },
  "language_info": {
   "codemirror_mode": {
    "name": "ipython",
    "version": 2
   },
   "file_extension": ".py",
   "mimetype": "text/x-python",
   "name": "python",
   "nbconvert_exporter": "python",
   "pygments_lexer": "ipython2",
   "version": "2.7.6"
  }
 },
 "nbformat": 4,
 "nbformat_minor": 5
}
