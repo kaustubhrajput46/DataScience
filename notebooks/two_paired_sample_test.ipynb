{
 "cells": [
  {
   "cell_type": "code",
   "id": "initial_id",
   "metadata": {
    "collapsed": true,
    "ExecuteTime": {
     "end_time": "2025-02-09T22:10:42.359131Z",
     "start_time": "2025-02-09T22:10:42.352114Z"
    }
   },
   "source": [
    "import pandas as pd\n",
    "\n",
    "# Load the data\n",
    "df = pd.read_csv(\"../data/Titanic_dataset/train.csv\")"
   ],
   "outputs": [],
   "execution_count": 2
  },
  {
   "metadata": {
    "ExecuteTime": {
     "end_time": "2025-02-09T22:16:32.117776Z",
     "start_time": "2025-02-09T22:16:32.110617Z"
    }
   },
   "cell_type": "code",
   "source": [
    "import pandas as pd\n",
    "import statsmodels.api as sm\n",
    "import numpy as np\n",
    "\n",
    "# Load the Titanic dataset\n",
    "# df = pd.read_csv('titanic.csv')\n",
    "\n",
    "# Filter the data for passengers in First and Second Class\n",
    "first_class = df[df['Pclass'] == 1]\n",
    "second_class = df[df['Pclass'] == 2]\n",
    "\n",
    "# Calculate survival proportions for First and Second Class\n",
    "first_class_survival = first_class['Survived'].mean()\n",
    "second_class_survival = second_class['Survived'].mean()\n",
    "\n",
    "# Number of passengers in each class\n",
    "n_first = len(first_class)\n",
    "n_second = len(second_class)\n",
    "\n",
    "# Perform the two-proportion z-test\n",
    "count = np.array([first_class['Survived'].sum(), second_class['Survived'].sum()])\n",
    "nobs = np.array([n_first, n_second])\n",
    "\n",
    "# Calculate the z-statistic and p-value\n",
    "z_stat, p_value = sm.stats.proportions_ztest(count, nobs)\n",
    "\n",
    "# Print the results\n",
    "print(f\"Z-statistic: {z_stat}\")\n",
    "print(f\"P-value: {p_value}\")\n",
    "\n",
    "# Interpret the result\n",
    "if p_value < 0.05:\n",
    "    print(\"Reject the null hypothesis: There is a significant difference in survival rates between First and Second Class.\")\n",
    "else:\n",
    "    print(\"Fail to reject the null hypothesis: There is no significant difference in survival rates between First and Second Class.\")\n"
   ],
   "id": "1a9147c34c6a2533",
   "outputs": [
    {
     "name": "stdout",
     "output_type": "stream",
     "text": [
      "Z-statistic: 3.146897435776384\n",
      "P-value: 0.0016501283330888781\n",
      "Reject the null hypothesis: There is a significant difference in survival rates between First and Second Class.\n"
     ]
    }
   ],
   "execution_count": 5
  }
 ],
 "metadata": {
  "kernelspec": {
   "display_name": "Python 3",
   "language": "python",
   "name": "python3"
  },
  "language_info": {
   "codemirror_mode": {
    "name": "ipython",
    "version": 2
   },
   "file_extension": ".py",
   "mimetype": "text/x-python",
   "name": "python",
   "nbconvert_exporter": "python",
   "pygments_lexer": "ipython2",
   "version": "2.7.6"
  }
 },
 "nbformat": 4,
 "nbformat_minor": 5
}
