{
 "cells": [
  {
   "cell_type": "code",
   "id": "67e33ee7-4210-4afd-9775-84fd58226dde",
   "metadata": {
    "ExecuteTime": {
     "end_time": "2025-01-19T19:43:46.027230Z",
     "start_time": "2025-01-19T19:43:46.021646Z"
    }
   },
   "source": [
    "import pandas as pd\n",
    "import numpy as np\n",
    "import matplotlib.pyplot as plt\n",
    "import seaborn as sns\n",
    "df = pd.read_csv(\"../data/Titanic_dataset/train.csv\")"
   ],
   "outputs": [],
   "execution_count": 3
  },
  {
   "cell_type": "code",
   "id": "b7a08c99-40a6-4fdf-a214-0ad6edadc71b",
   "metadata": {
    "ExecuteTime": {
     "end_time": "2025-01-19T19:43:47.936541Z",
     "start_time": "2025-01-19T19:43:47.922937Z"
    }
   },
   "source": [
    "df.head()"
   ],
   "outputs": [
    {
     "data": {
      "text/plain": [
       "   PassengerId  Survived  Pclass  \\\n",
       "0            1         0       3   \n",
       "1            2         1       1   \n",
       "2            3         1       3   \n",
       "3            4         1       1   \n",
       "4            5         0       3   \n",
       "\n",
       "                                                Name     Sex  SibSp  Parch  \\\n",
       "0                            Braund, Mr. Owen Harris    male      1      0   \n",
       "1  Cumings, Mrs. John Bradley (Florence Briggs Th...  female      1      0   \n",
       "2                             Heikkinen, Miss. Laina  female      0      0   \n",
       "3       Futrelle, Mrs. Jacques Heath (Lily May Peel)  female      1      0   \n",
       "4                           Allen, Mr. William Henry    male      0      0   \n",
       "\n",
       "             Ticket     Fare Cabin  BirthYear   Age Embarked  \n",
       "0         A/5 21171   7.2500   NaN     1890.0  22.0        S  \n",
       "1          PC 17599  71.2833   C85     1874.0  38.0        C  \n",
       "2  STON/O2. 3101282   7.9250   NaN     1886.0  26.0        S  \n",
       "3            113803  53.1000  C123     1877.0  35.0        S  \n",
       "4            373450   8.0500   NaN     1877.0  35.0        S  "
      ],
      "text/html": [
       "<div>\n",
       "<style scoped>\n",
       "    .dataframe tbody tr th:only-of-type {\n",
       "        vertical-align: middle;\n",
       "    }\n",
       "\n",
       "    .dataframe tbody tr th {\n",
       "        vertical-align: top;\n",
       "    }\n",
       "\n",
       "    .dataframe thead th {\n",
       "        text-align: right;\n",
       "    }\n",
       "</style>\n",
       "<table border=\"1\" class=\"dataframe\">\n",
       "  <thead>\n",
       "    <tr style=\"text-align: right;\">\n",
       "      <th></th>\n",
       "      <th>PassengerId</th>\n",
       "      <th>Survived</th>\n",
       "      <th>Pclass</th>\n",
       "      <th>Name</th>\n",
       "      <th>Sex</th>\n",
       "      <th>SibSp</th>\n",
       "      <th>Parch</th>\n",
       "      <th>Ticket</th>\n",
       "      <th>Fare</th>\n",
       "      <th>Cabin</th>\n",
       "      <th>BirthYear</th>\n",
       "      <th>Age</th>\n",
       "      <th>Embarked</th>\n",
       "    </tr>\n",
       "  </thead>\n",
       "  <tbody>\n",
       "    <tr>\n",
       "      <th>0</th>\n",
       "      <td>1</td>\n",
       "      <td>0</td>\n",
       "      <td>3</td>\n",
       "      <td>Braund, Mr. Owen Harris</td>\n",
       "      <td>male</td>\n",
       "      <td>1</td>\n",
       "      <td>0</td>\n",
       "      <td>A/5 21171</td>\n",
       "      <td>7.2500</td>\n",
       "      <td>NaN</td>\n",
       "      <td>1890.0</td>\n",
       "      <td>22.0</td>\n",
       "      <td>S</td>\n",
       "    </tr>\n",
       "    <tr>\n",
       "      <th>1</th>\n",
       "      <td>2</td>\n",
       "      <td>1</td>\n",
       "      <td>1</td>\n",
       "      <td>Cumings, Mrs. John Bradley (Florence Briggs Th...</td>\n",
       "      <td>female</td>\n",
       "      <td>1</td>\n",
       "      <td>0</td>\n",
       "      <td>PC 17599</td>\n",
       "      <td>71.2833</td>\n",
       "      <td>C85</td>\n",
       "      <td>1874.0</td>\n",
       "      <td>38.0</td>\n",
       "      <td>C</td>\n",
       "    </tr>\n",
       "    <tr>\n",
       "      <th>2</th>\n",
       "      <td>3</td>\n",
       "      <td>1</td>\n",
       "      <td>3</td>\n",
       "      <td>Heikkinen, Miss. Laina</td>\n",
       "      <td>female</td>\n",
       "      <td>0</td>\n",
       "      <td>0</td>\n",
       "      <td>STON/O2. 3101282</td>\n",
       "      <td>7.9250</td>\n",
       "      <td>NaN</td>\n",
       "      <td>1886.0</td>\n",
       "      <td>26.0</td>\n",
       "      <td>S</td>\n",
       "    </tr>\n",
       "    <tr>\n",
       "      <th>3</th>\n",
       "      <td>4</td>\n",
       "      <td>1</td>\n",
       "      <td>1</td>\n",
       "      <td>Futrelle, Mrs. Jacques Heath (Lily May Peel)</td>\n",
       "      <td>female</td>\n",
       "      <td>1</td>\n",
       "      <td>0</td>\n",
       "      <td>113803</td>\n",
       "      <td>53.1000</td>\n",
       "      <td>C123</td>\n",
       "      <td>1877.0</td>\n",
       "      <td>35.0</td>\n",
       "      <td>S</td>\n",
       "    </tr>\n",
       "    <tr>\n",
       "      <th>4</th>\n",
       "      <td>5</td>\n",
       "      <td>0</td>\n",
       "      <td>3</td>\n",
       "      <td>Allen, Mr. William Henry</td>\n",
       "      <td>male</td>\n",
       "      <td>0</td>\n",
       "      <td>0</td>\n",
       "      <td>373450</td>\n",
       "      <td>8.0500</td>\n",
       "      <td>NaN</td>\n",
       "      <td>1877.0</td>\n",
       "      <td>35.0</td>\n",
       "      <td>S</td>\n",
       "    </tr>\n",
       "  </tbody>\n",
       "</table>\n",
       "</div>"
      ]
     },
     "execution_count": 4,
     "metadata": {},
     "output_type": "execute_result"
    }
   ],
   "execution_count": 4
  },
  {
   "cell_type": "markdown",
   "id": "1fd91bf4-e6e2-4257-b8b8-e36c341eefcf",
   "metadata": {},
   "source": [
    "Nominal Variables"
   ]
  },
  {
   "cell_type": "code",
   "id": "4d9a4107-0232-4fec-8dc3-ca19f7de0cb8",
   "metadata": {
    "ExecuteTime": {
     "end_time": "2025-01-19T19:43:58.494415Z",
     "start_time": "2025-01-19T19:43:58.489988Z"
    }
   },
   "source": [
    "sex_counts = df['Sex'].value_counts()"
   ],
   "outputs": [],
   "execution_count": 5
  },
  {
   "cell_type": "code",
   "id": "63ab9580-e7e9-4e13-af02-81feb81392d7",
   "metadata": {
    "scrolled": true,
    "ExecuteTime": {
     "end_time": "2025-01-19T19:44:00.905042Z",
     "start_time": "2025-01-19T19:44:00.700767Z"
    }
   },
   "source": [
    "# Plotting the bar plot\n",
    "plt.figure(figsize=(10, 6))\n",
    "sns.barplot(x=sex_counts.index, y=sex_counts.values, palette='viridis')\n",
    "\n",
    "# Adding labels and title\n",
    "plt.title('Frequency Distribution of Sex', fontsize=16)\n",
    "plt.xlabel('Sex', fontsize=12)\n",
    "plt.ylabel('Frequency', fontsize=12)\n",
    "\n",
    "# Show the plot\n",
    "plt.show()"
   ],
   "outputs": [
    {
     "name": "stderr",
     "output_type": "stream",
     "text": [
      "C:\\Users\\Kaustubh PC\\AppData\\Local\\Temp\\ipykernel_36392\\3615889805.py:3: FutureWarning: \n",
      "\n",
      "Passing `palette` without assigning `hue` is deprecated and will be removed in v0.14.0. Assign the `x` variable to `hue` and set `legend=False` for the same effect.\n",
      "\n",
      "  sns.barplot(x=sex_counts.index, y=sex_counts.values, palette='viridis')\n"
     ]
    },
    {
     "data": {
      "text/plain": [
       "<Figure size 1000x600 with 1 Axes>"
      ],
      "image/png": "[encoded data removed]"
     },
     "metadata": {},
     "output_type": "display_data"
    }
   ],
   "execution_count": 6
  },
  {
   "cell_type": "code",
   "id": "d34d1cd0-cf2e-4df6-a0f0-13341607d3d6",
   "metadata": {
    "ExecuteTime": {
     "end_time": "2025-01-19T19:44:25.136112Z",
     "start_time": "2025-01-19T19:44:25.042783Z"
    }
   },
   "source": [
    "survived_counts = df['Survived'].value_counts()\n",
    "# Plotting the bar plot\n",
    "plt.figure(figsize=(10, 6))\n",
    "sns.barplot(x=survived_counts.index, y=survived_counts.values, palette='viridis')\n",
    "\n",
    "# Adding labels and title\n",
    "plt.title('Frequency Distribution of Survived', fontsize=16)\n",
    "plt.xlabel('Survived', fontsize=12)\n",
    "plt.ylabel('Frequency', fontsize=12)\n",
    "\n",
    "# Show the plot\n",
    "plt.show()"
   ],
   "outputs": [
    {
     "name": "stderr",
     "output_type": "stream",
     "text": [
      "C:\\Users\\Kaustubh PC\\AppData\\Local\\Temp\\ipykernel_36392\\4089289884.py:4: FutureWarning: \n",
      "\n",
      "Passing `palette` without assigning `hue` is deprecated and will be removed in v0.14.0. Assign the `x` variable to `hue` and set `legend=False` for the same effect.\n",
      "\n",
      "  sns.barplot(x=survived_counts.index, y=survived_counts.values, palette='viridis')\n"
     ]
    },
    {
     "data": {
      "text/plain": [
       "<Figure size 1000x600 with 1 Axes>"
      ],
      "image/png": "[encoded data removed]"
     },
     "metadata": {},
     "output_type": "display_data"
    }
   ],
   "execution_count": 7
  },
  {
   "cell_type": "code",
   "id": "a64c32fc-e633-4df6-85a1-052d5330dafe",
   "metadata": {
    "ExecuteTime": {
     "end_time": "2025-01-19T19:44:35.219306Z",
     "start_time": "2025-01-19T19:44:35.121258Z"
    }
   },
   "source": [
    "embarked_counts = df['Embarked'].value_counts()\n",
    "# Plotting the bar plot\n",
    "plt.figure(figsize=(10, 6))\n",
    "sns.barplot(x=embarked_counts.index, y=embarked_counts.values)\n",
    "\n",
    "# Adding labels and title\n",
    "plt.title('Frequency Distribution of Embarked', fontsize=16)\n",
    "plt.xlabel('Embarked', fontsize=12)\n",
    "plt.ylabel('Frequency', fontsize=12)\n",
    "\n",
    "# Show the plot\n",
    "plt.show()"
   ],
   "outputs": [
    {
     "data": {
      "text/plain": [
       "<Figure size 1000x600 with 1 Axes>"
      ],
      "image/png": "[encoded data removed]"
     },
     "metadata": {},
     "output_type": "display_data"
    }
   ],
   "execution_count": 8
  },
  {
   "cell_type": "markdown",
   "id": "66a97677-10cb-43a2-b66f-f343b7935324",
   "metadata": {},
   "source": [
    "Ordinal"
   ]
  },
  {
   "cell_type": "code",
   "id": "0ca3b14c-fe0a-493e-b4be-0e1853b1d327",
   "metadata": {
    "ExecuteTime": {
     "end_time": "2025-01-19T19:44:37.786833Z",
     "start_time": "2025-01-19T19:44:37.783218Z"
    }
   },
   "source": [
    "pClass_counts = df['Pclass'].value_counts()"
   ],
   "outputs": [],
   "execution_count": 9
  },
  {
   "cell_type": "code",
   "id": "87083c65-4cb3-42c0-aa87-7d6a3723a7ee",
   "metadata": {
    "ExecuteTime": {
     "end_time": "2025-01-19T19:44:39.085278Z",
     "start_time": "2025-01-19T19:44:38.985068Z"
    }
   },
   "source": [
    "# Plotting the bar plot\n",
    "plt.figure(figsize=(10, 6))\n",
    "sns.barplot(x=pClass_counts.index, y=pClass_counts.values, palette='viridis')\n",
    "\n",
    "# Adding labels and title\n",
    "plt.title('Frequency Distribution of Passenger Class', fontsize=16)\n",
    "plt.xlabel('Pclass', fontsize=12)\n",
    "plt.ylabel('Frequency', fontsize=12)\n",
    "\n",
    "# Show the plot\n",
    "plt.show()"
   ],
   "outputs": [
    {
     "name": "stderr",
     "output_type": "stream",
     "text": [
      "C:\\Users\\Kaustubh PC\\AppData\\Local\\Temp\\ipykernel_36392\\1416630434.py:3: FutureWarning: \n",
      "\n",
      "Passing `palette` without assigning `hue` is deprecated and will be removed in v0.14.0. Assign the `x` variable to `hue` and set `legend=False` for the same effect.\n",
      "\n",
      "  sns.barplot(x=pClass_counts.index, y=pClass_counts.values, palette='viridis')\n"
     ]
    },
    {
     "data": {
      "text/plain": [
       "<Figure size 1000x600 with 1 Axes>"
      ],
      "image/png": "[encoded data removed]"
     },
     "metadata": {},
     "output_type": "display_data"
    }
   ],
   "execution_count": 10
  },
  {
   "cell_type": "markdown",
   "id": "68fe81f2-4f72-4624-bdfa-b1b7b272e5c6",
   "metadata": {},
   "source": [
    "Interval"
   ]
  },
  {
   "cell_type": "code",
   "id": "5899ee61-5633-4d01-9451-a572cf109cb4",
   "metadata": {
    "ExecuteTime": {
     "end_time": "2025-01-19T19:44:44.750254Z",
     "start_time": "2025-01-19T19:44:44.744868Z"
    }
   },
   "source": [
    "birth_year_mean = np.mean(df['BirthYear'])\n",
    "birth_year_median = df['BirthYear'].dropna().median()\n",
    "birth_year_mode = df['BirthYear'].value_counts().index[0]\n",
    "birth_year_std = np.std(df['BirthYear'])\n",
    "birth_year_var = np.var(df['BirthYear'])\n"
   ],
   "outputs": [],
   "execution_count": 11
  },
  {
   "cell_type": "code",
   "id": "8ff3e5d4-f2ea-4756-b801-f4e02f2fdc03",
   "metadata": {
    "ExecuteTime": {
     "end_time": "2025-01-19T19:44:46.747664Z",
     "start_time": "2025-01-19T19:44:46.743391Z"
    }
   },
   "source": [
    "print(f\"\"\"\n",
    "Birth year mean : {birth_year_mean}, \\n \n",
    "Birth year median : {birth_year_median}, \\n \n",
    "Birth year mode : {birth_year_mode}, \\n \n",
    "Birth year standard deviation : {birth_year_std}, \\n \n",
    "Birth year variance : {birth_year_var}\"\"\");"
   ],
   "outputs": [
    {
     "name": "stdout",
     "output_type": "stream",
     "text": [
      "\n",
      "Birth year mean : 1882.3008823529412, \n",
      " \n",
      "Birth year median : 1884.0, \n",
      " \n",
      "Birth year mode : 1888.0, \n",
      " \n",
      "Birth year standard deviation : 14.516321150817324, \n",
      " \n",
      "Birth year variance : 210.72357975366643\n"
     ]
    }
   ],
   "execution_count": 12
  },
  {
   "cell_type": "markdown",
   "id": "7ccba6d7-61c1-4cd8-9492-1995e603f793",
   "metadata": {},
   "source": [
    "Ratio"
   ]
  },
  {
   "cell_type": "code",
   "id": "e14f9af4-8766-4c44-a9e4-14457538d6ab",
   "metadata": {
    "ExecuteTime": {
     "end_time": "2025-01-19T19:44:48.660474Z",
     "start_time": "2025-01-19T19:44:48.656743Z"
    }
   },
   "source": [
    "ratio_column_list = ['SibSp', 'Parch', 'Fare']"
   ],
   "outputs": [],
   "execution_count": 13
  },
  {
   "cell_type": "code",
   "id": "3e40dd92-e41c-438b-b0b4-b9741001996c",
   "metadata": {
    "ExecuteTime": {
     "end_time": "2025-01-19T19:44:50.279101Z",
     "start_time": "2025-01-19T19:44:50.272592Z"
    }
   },
   "source": [
    "for rC in ratio_column_list:\n",
    "    mean = np.mean(df[rC])\n",
    "    median = df[rC].dropna().median()\n",
    "    mode = df[rC].value_counts().index[0]\n",
    "    std = np.std(df[rC])\n",
    "    var = np.var(df[rC])\n",
    "\n",
    "    print(f\"Common summary measures for column : {rC}\")\n",
    "    \n",
    "    print(f\"\"\"\n",
    "    {rC} mean : {mean}, \\n \n",
    "    {rC} median : {median}, \\n \n",
    "    {rC} mode : {mode}, \\n \n",
    "    {rC} standard deviation : {std}, \\n \n",
    "    {rC} variance : {var}\"\"\");\n",
    "    \n",
    "    print(\"---------------------------------------------\")"
   ],
   "outputs": [
    {
     "name": "stdout",
     "output_type": "stream",
     "text": [
      "Common summary measures for column : SibSp\n",
      "\n",
      "    SibSp mean : 0.5230078563411896, \n",
      " \n",
      "    SibSp median : 0.0, \n",
      " \n",
      "    SibSp mode : 0, \n",
      " \n",
      "    SibSp standard deviation : 1.1021244350892836, \n",
      " \n",
      "    SibSp variance : 1.2146782704208727\n",
      "---------------------------------------------\n",
      "Common summary measures for column : Parch\n",
      "\n",
      "    Parch mean : 0.38159371492704824, \n",
      " \n",
      "    Parch median : 0.0, \n",
      " \n",
      "    Parch mode : 0, \n",
      " \n",
      "    Parch standard deviation : 0.8056047612452284, \n",
      " \n",
      "    Parch variance : 0.6489990313409815\n",
      "---------------------------------------------\n",
      "Common summary measures for column : Fare\n",
      "\n",
      "    Fare mean : 32.204207968574636, \n",
      " \n",
      "    Fare median : 14.4542, \n",
      " \n",
      "    Fare mode : 8.05, \n",
      " \n",
      "    Fare standard deviation : 49.66553444477411, \n",
      " \n",
      "    Fare variance : 2466.6653116850434\n",
      "---------------------------------------------\n"
     ]
    }
   ],
   "execution_count": 14
  },
  {
   "cell_type": "code",
   "execution_count": null,
   "id": "4500debe-79f5-41b8-9bf4-64227cec8463",
   "metadata": {},
   "outputs": [],
   "source": []
  }
 ],
 "metadata": {
  "kernelspec": {
   "display_name": "Python 3 (ipykernel)",
   "language": "python",
   "name": "python3"
  },
  "language_info": {
   "codemirror_mode": {
    "name": "ipython",
    "version": 3
   },
   "file_extension": ".py",
   "mimetype": "text/x-python",
   "name": "python",
   "nbconvert_exporter": "python",
   "pygments_lexer": "ipython3",
   "version": "3.10.14"
  }
 },
 "nbformat": 4,
 "nbformat_minor": 5
}
